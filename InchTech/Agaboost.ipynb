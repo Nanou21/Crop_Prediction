{
 "cells": [
  {
   "cell_type": "code",
   "execution_count": 1,
   "id": "0042712d",
   "metadata": {},
   "outputs": [],
   "source": [
    "import pandas\n",
    "from sklearn import model_selection\n",
    "from sklearn.ensemble import AdaBoostClassifier"
   ]
  },
  {
   "cell_type": "code",
   "execution_count": 17,
   "id": "7812dc63",
   "metadata": {},
   "outputs": [],
   "source": [
    "dataframe = pandas.read_csv('diabetes.csv')\n",
    "array = dataframe.values\n",
    "X = array[:, 0:8]\n",
    "Y = array [:, 8]\n",
    "seed = 8\n",
    "num_trees = 30"
   ]
  },
  {
   "cell_type": "code",
   "execution_count": 18,
   "id": "6c11fda7",
   "metadata": {},
   "outputs": [
    {
     "name": "stdout",
     "output_type": "stream",
     "text": [
      "0.7551435406698566\n"
     ]
    }
   ],
   "source": [
    "Kfold = model_selection.KFold(n_splits=10,shuffle = True, random_state = seed)\n",
    "model = AdaBoostClassifier(n_estimators= num_trees, random_state=seed)\n",
    "results = model_selection.cross_val_score(model, X,Y, cv = Kfold)\n",
    "print(results.mean())"
   ]
  },
  {
   "cell_type": "code",
   "execution_count": 28,
   "id": "8228eb15",
   "metadata": {},
   "outputs": [
    {
     "name": "stdout",
     "output_type": "stream",
     "text": [
      "0.746138072453862\n"
     ]
    }
   ],
   "source": [
    "from sklearn import svm\n",
    "from xgboost import XGBClassifier\n",
    "clf = XGBClassifier()\n",
    "seed = 7\n",
    "num_trees = 32\n",
    "Kfold = model_selection.KFold(n_splits=10,shuffle = True, random_state = seed)\n",
    "model = XGBClassifier(n_estimators= num_trees, random_state=seed)\n",
    "results = model_selection.cross_val_score(model, X,Y, cv = Kfold)\n",
    "print(results.mean())"
   ]
  },
  {
   "cell_type": "code",
   "execution_count": null,
   "id": "30719a6a",
   "metadata": {},
   "outputs": [],
   "source": []
  }
 ],
 "metadata": {
  "kernelspec": {
   "display_name": "Python 3 (ipykernel)",
   "language": "python",
   "name": "python3"
  },
  "language_info": {
   "codemirror_mode": {
    "name": "ipython",
    "version": 3
   },
   "file_extension": ".py",
   "mimetype": "text/x-python",
   "name": "python",
   "nbconvert_exporter": "python",
   "pygments_lexer": "ipython3",
   "version": "3.9.12"
  }
 },
 "nbformat": 4,
 "nbformat_minor": 5
}
