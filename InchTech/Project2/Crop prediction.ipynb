{
 "cells": [
  {
   "cell_type": "markdown",
   "id": "f69da707",
   "metadata": {},
   "source": [
    "# CROP PREDICTION\n",
    "#### The goal of this project is to create an application that predicts a type of crop given the soil elements(Sodium(N), Potassium(K), Phosphorus(P)), temeperature and amount of rainfall"
   ]
  },
  {
   "cell_type": "markdown",
   "id": "e82cae7d",
   "metadata": {},
   "source": [
    "### 1. Reading the csv files and combining them"
   ]
  },
  {
   "cell_type": "code",
   "execution_count": 1,
   "id": "5cc8166e",
   "metadata": {},
   "outputs": [],
   "source": [
    "# Importing the necessary libraries needed\n",
    "\n",
    "import pandas as pd \n",
    "import numpy as np\n",
    "import glob\n",
    "import matplotlib.pyplot as plt\n",
    "import seaborn as sns\n",
    "from sklearn.model_selection import train_test_split\n",
    "from sklearn.metrics import accuracy_score, confusion_matrix, precision_score\n",
    "from sklearn.ensemble import RandomForestClassifier, GradientBoostingClassifier\n",
    "from sklearn import svm\n",
    "import sklearn\n"
   ]
  },
  {
   "cell_type": "code",
   "execution_count": 2,
   "id": "a7a2a68e",
   "metadata": {},
   "outputs": [
    {
     "data": {
      "text/plain": [
       "['stage\\\\bananas.csv',\n",
       " 'stage\\\\bean.csv',\n",
       " 'stage\\\\cacao.csv',\n",
       " 'stage\\\\cassava.csv',\n",
       " 'stage\\\\chilli-pepper.csv',\n",
       " 'stage\\\\coffee.csv',\n",
       " 'stage\\\\fruit-tree.csv',\n",
       " 'stage\\\\laituce.csv',\n",
       " 'stage\\\\maize.csv',\n",
       " 'stage\\\\okra.csv',\n",
       " 'stage\\\\onion.csv',\n",
       " 'stage\\\\palm-tree.csv',\n",
       " 'stage\\\\peanut.csv',\n",
       " 'stage\\\\pineaple.csv',\n",
       " 'stage\\\\potato.csv',\n",
       " 'stage\\\\rice.csv',\n",
       " 'stage\\\\sorghum.csv',\n",
       " 'stage\\\\sugarcane.csv',\n",
       " 'stage\\\\tea.csv',\n",
       " 'stage\\\\tomato.csv']"
      ]
     },
     "execution_count": 2,
     "metadata": {},
     "output_type": "execute_result"
    }
   ],
   "source": [
    "# Create a list that can save all the files in the folder\n",
    "files = glob.glob('stage/*')\n",
    "files"
   ]
  },
  {
   "cell_type": "code",
   "execution_count": 3,
   "id": "934aa921",
   "metadata": {},
   "outputs": [
    {
     "name": "stdout",
     "output_type": "stream",
     "text": [
      "<class 'pandas.core.frame.DataFrame'>\n",
      "RangeIndex: 736334 entries, 0 to 736333\n",
      "Data columns (total 8 columns):\n",
      " #   Column       Non-Null Count   Dtype  \n",
      "---  ------       --------------   -----  \n",
      " 0   Unnamed: 0   736334 non-null  int64  \n",
      " 1   Plant        736334 non-null  object \n",
      " 2   N            736334 non-null  int64  \n",
      " 3   P            736334 non-null  int64  \n",
      " 4   K            736334 non-null  int64  \n",
      " 5   pH           736334 non-null  float64\n",
      " 6   Rainfall     736334 non-null  float64\n",
      " 7   Temperature  736334 non-null  float64\n",
      "dtypes: float64(3), int64(4), object(1)\n",
      "memory usage: 44.9+ MB\n"
     ]
    }
   ],
   "source": [
    "#create a list that holds all the dataframes read from the files list of csv\n",
    "frame = []\n",
    "\n",
    "# Append each read csv in the created list\n",
    "for file in files:\n",
    "    frame.append(pd.read_csv(file))\n",
    "    \n",
    "#Create a single dataframe by concating all the dataframes\n",
    "    new = pd.concat(frame, ignore_index=True)\n",
    "# new['Plant'].unique()\n",
    "new.info()    \n",
    "   \n",
    " "
   ]
  },
  {
   "cell_type": "code",
   "execution_count": 4,
   "id": "e537294c",
   "metadata": {},
   "outputs": [],
   "source": [
    "#Dropping the first column \"Unnamed: 0\"\n",
    "new = new.drop('Unnamed: 0', axis = 1)"
   ]
  },
  {
   "cell_type": "code",
   "execution_count": 5,
   "id": "e427db86",
   "metadata": {},
   "outputs": [
    {
     "name": "stdout",
     "output_type": "stream",
     "text": [
      "<class 'pandas.core.frame.DataFrame'>\n",
      "RangeIndex: 736334 entries, 0 to 736333\n",
      "Data columns (total 7 columns):\n",
      " #   Column       Non-Null Count   Dtype  \n",
      "---  ------       --------------   -----  \n",
      " 0   Plant        736334 non-null  object \n",
      " 1   N            736334 non-null  int64  \n",
      " 2   P            736334 non-null  int64  \n",
      " 3   K            736334 non-null  int64  \n",
      " 4   pH           736334 non-null  float64\n",
      " 5   Rainfall     736334 non-null  float64\n",
      " 6   Temperature  736334 non-null  float64\n",
      "dtypes: float64(3), int64(3), object(1)\n",
      "memory usage: 39.3+ MB\n"
     ]
    }
   ],
   "source": [
    "new.info()"
   ]
  },
  {
   "cell_type": "markdown",
   "id": "a098f1dd",
   "metadata": {},
   "source": [
    "### Exploratory Data Analysis"
   ]
  },
  {
   "cell_type": "code",
   "execution_count": 6,
   "id": "e7694d9d",
   "metadata": {},
   "outputs": [
    {
     "data": {
      "text/html": [
       "<div>\n",
       "<style scoped>\n",
       "    .dataframe tbody tr th:only-of-type {\n",
       "        vertical-align: middle;\n",
       "    }\n",
       "\n",
       "    .dataframe tbody tr th {\n",
       "        vertical-align: top;\n",
       "    }\n",
       "\n",
       "    .dataframe thead th {\n",
       "        text-align: right;\n",
       "    }\n",
       "</style>\n",
       "<table border=\"1\" class=\"dataframe\">\n",
       "  <thead>\n",
       "    <tr style=\"text-align: right;\">\n",
       "      <th></th>\n",
       "      <th>N</th>\n",
       "      <th>P</th>\n",
       "      <th>K</th>\n",
       "      <th>pH</th>\n",
       "      <th>Rainfall</th>\n",
       "      <th>Temperature</th>\n",
       "    </tr>\n",
       "  </thead>\n",
       "  <tbody>\n",
       "    <tr>\n",
       "      <th>count</th>\n",
       "      <td>736334.000000</td>\n",
       "      <td>736334.000000</td>\n",
       "      <td>736334.000000</td>\n",
       "      <td>736334.000000</td>\n",
       "      <td>736334.000000</td>\n",
       "      <td>736334.000000</td>\n",
       "    </tr>\n",
       "    <tr>\n",
       "      <th>mean</th>\n",
       "      <td>50.430366</td>\n",
       "      <td>20.004499</td>\n",
       "      <td>59.822939</td>\n",
       "      <td>5.528704</td>\n",
       "      <td>1747.613486</td>\n",
       "      <td>25.023192</td>\n",
       "    </tr>\n",
       "    <tr>\n",
       "      <th>std</th>\n",
       "      <td>54.297312</td>\n",
       "      <td>23.030196</td>\n",
       "      <td>56.386849</td>\n",
       "      <td>1.322511</td>\n",
       "      <td>962.855949</td>\n",
       "      <td>6.291149</td>\n",
       "    </tr>\n",
       "    <tr>\n",
       "      <th>min</th>\n",
       "      <td>5.000000</td>\n",
       "      <td>3.000000</td>\n",
       "      <td>10.000000</td>\n",
       "      <td>3.000000</td>\n",
       "      <td>400.000000</td>\n",
       "      <td>10.000000</td>\n",
       "    </tr>\n",
       "    <tr>\n",
       "      <th>25%</th>\n",
       "      <td>16.000000</td>\n",
       "      <td>10.000000</td>\n",
       "      <td>20.000000</td>\n",
       "      <td>4.800000</td>\n",
       "      <td>1126.000000</td>\n",
       "      <td>20.400000</td>\n",
       "    </tr>\n",
       "    <tr>\n",
       "      <th>50%</th>\n",
       "      <td>20.000000</td>\n",
       "      <td>10.000000</td>\n",
       "      <td>50.000000</td>\n",
       "      <td>5.800000</td>\n",
       "      <td>1478.700000</td>\n",
       "      <td>24.900000</td>\n",
       "    </tr>\n",
       "    <tr>\n",
       "      <th>75%</th>\n",
       "      <td>60.000000</td>\n",
       "      <td>30.000000</td>\n",
       "      <td>60.000000</td>\n",
       "      <td>6.800000</td>\n",
       "      <td>1979.700000</td>\n",
       "      <td>30.100000</td>\n",
       "    </tr>\n",
       "    <tr>\n",
       "      <th>max</th>\n",
       "      <td>250.000000</td>\n",
       "      <td>130.000000</td>\n",
       "      <td>250.000000</td>\n",
       "      <td>7.900000</td>\n",
       "      <td>4999.200000</td>\n",
       "      <td>39.300000</td>\n",
       "    </tr>\n",
       "  </tbody>\n",
       "</table>\n",
       "</div>"
      ],
      "text/plain": [
       "                   N              P              K             pH  \\\n",
       "count  736334.000000  736334.000000  736334.000000  736334.000000   \n",
       "mean       50.430366      20.004499      59.822939       5.528704   \n",
       "std        54.297312      23.030196      56.386849       1.322511   \n",
       "min         5.000000       3.000000      10.000000       3.000000   \n",
       "25%        16.000000      10.000000      20.000000       4.800000   \n",
       "50%        20.000000      10.000000      50.000000       5.800000   \n",
       "75%        60.000000      30.000000      60.000000       6.800000   \n",
       "max       250.000000     130.000000     250.000000       7.900000   \n",
       "\n",
       "            Rainfall    Temperature  \n",
       "count  736334.000000  736334.000000  \n",
       "mean     1747.613486      25.023192  \n",
       "std       962.855949       6.291149  \n",
       "min       400.000000      10.000000  \n",
       "25%      1126.000000      20.400000  \n",
       "50%      1478.700000      24.900000  \n",
       "75%      1979.700000      30.100000  \n",
       "max      4999.200000      39.300000  "
      ]
     },
     "execution_count": 6,
     "metadata": {},
     "output_type": "execute_result"
    }
   ],
   "source": [
    "new.describe()"
   ]
  },
  {
   "cell_type": "markdown",
   "id": "da842fc6",
   "metadata": {},
   "source": [
    "From the description above it can observed that the data set does not have outliers. However we shall carry out visualization to confirm our supcision"
   ]
  },
  {
   "cell_type": "code",
   "execution_count": 7,
   "id": "f701e01b",
   "metadata": {},
   "outputs": [
    {
     "name": "stderr",
     "output_type": "stream",
     "text": [
      "C:\\Users\\vtebo\\anaconda3\\lib\\site-packages\\seaborn\\_decorators.py:36: FutureWarning: Pass the following variable as a keyword arg: x. From version 0.12, the only valid positional argument will be `data`, and passing other arguments without an explicit keyword will result in an error or misinterpretation.\n",
      "  warnings.warn(\n",
      "C:\\Users\\vtebo\\anaconda3\\lib\\site-packages\\seaborn\\_core.py:1326: UserWarning: Vertical orientation ignored with only `x` specified.\n",
      "  warnings.warn(single_var_warning.format(\"Vertical\", \"x\"))\n",
      "C:\\Users\\vtebo\\anaconda3\\lib\\site-packages\\seaborn\\_decorators.py:36: FutureWarning: Pass the following variable as a keyword arg: x. From version 0.12, the only valid positional argument will be `data`, and passing other arguments without an explicit keyword will result in an error or misinterpretation.\n",
      "  warnings.warn(\n",
      "C:\\Users\\vtebo\\anaconda3\\lib\\site-packages\\seaborn\\_core.py:1326: UserWarning: Vertical orientation ignored with only `x` specified.\n",
      "  warnings.warn(single_var_warning.format(\"Vertical\", \"x\"))\n",
      "C:\\Users\\vtebo\\anaconda3\\lib\\site-packages\\seaborn\\_decorators.py:36: FutureWarning: Pass the following variable as a keyword arg: x. From version 0.12, the only valid positional argument will be `data`, and passing other arguments without an explicit keyword will result in an error or misinterpretation.\n",
      "  warnings.warn(\n",
      "C:\\Users\\vtebo\\anaconda3\\lib\\site-packages\\seaborn\\_core.py:1326: UserWarning: Vertical orientation ignored with only `x` specified.\n",
      "  warnings.warn(single_var_warning.format(\"Vertical\", \"x\"))\n",
      "C:\\Users\\vtebo\\anaconda3\\lib\\site-packages\\seaborn\\_decorators.py:36: FutureWarning: Pass the following variable as a keyword arg: x. From version 0.12, the only valid positional argument will be `data`, and passing other arguments without an explicit keyword will result in an error or misinterpretation.\n",
      "  warnings.warn(\n",
      "C:\\Users\\vtebo\\anaconda3\\lib\\site-packages\\seaborn\\_core.py:1326: UserWarning: Vertical orientation ignored with only `x` specified.\n",
      "  warnings.warn(single_var_warning.format(\"Vertical\", \"x\"))\n",
      "C:\\Users\\vtebo\\anaconda3\\lib\\site-packages\\seaborn\\_decorators.py:36: FutureWarning: Pass the following variable as a keyword arg: x. From version 0.12, the only valid positional argument will be `data`, and passing other arguments without an explicit keyword will result in an error or misinterpretation.\n",
      "  warnings.warn(\n",
      "C:\\Users\\vtebo\\anaconda3\\lib\\site-packages\\seaborn\\_core.py:1326: UserWarning: Vertical orientation ignored with only `x` specified.\n",
      "  warnings.warn(single_var_warning.format(\"Vertical\", \"x\"))\n",
      "C:\\Users\\vtebo\\anaconda3\\lib\\site-packages\\seaborn\\_decorators.py:36: FutureWarning: Pass the following variable as a keyword arg: x. From version 0.12, the only valid positional argument will be `data`, and passing other arguments without an explicit keyword will result in an error or misinterpretation.\n",
      "  warnings.warn(\n",
      "C:\\Users\\vtebo\\anaconda3\\lib\\site-packages\\seaborn\\_core.py:1326: UserWarning: Vertical orientation ignored with only `x` specified.\n",
      "  warnings.warn(single_var_warning.format(\"Vertical\", \"x\"))\n"
     ]
    },
    {
     "data": {
      "image/png": "[encoded data removed]",
      "text/plain": [
       "<Figure size 504x504 with 1 Axes>"
      ]
     },
     "metadata": {
      "needs_background": "light"
     },
     "output_type": "display_data"
    },
    {
     "data": {
      "image/png": "[encoded data removed]",
      "text/plain": [
       "<Figure size 504x504 with 1 Axes>"
      ]
     },
     "metadata": {
      "needs_background": "light"
     },
     "output_type": "display_data"
    },
    {
     "data": {
      "image/png": "[encoded data removed]",
      "text/plain": [
       "<Figure size 504x504 with 1 Axes>"
      ]
     },
     "metadata": {
      "needs_background": "light"
     },
     "output_type": "display_data"
    },
    {
     "data": {
      "image/png": "[encoded data removed]",
      "text/plain": [
       "<Figure size 504x504 with 1 Axes>"
      ]
     },
     "metadata": {
      "needs_background": "light"
     },
     "output_type": "display_data"
    },
    {
     "data": {
      "image/png": "[encoded data removed]",
      "text/plain": [
       "<Figure size 504x504 with 1 Axes>"
      ]
     },
     "metadata": {
      "needs_background": "light"
     },
     "output_type": "display_data"
    },
    {
     "data": {
      "image/png": "[encoded data removed]",
      "text/plain": [
       "<Figure size 504x504 with 1 Axes>"
      ]
     },
     "metadata": {
      "needs_background": "light"
     },
     "output_type": "display_data"
    }
   ],
   "source": [
    "df1 = new.drop(columns = 'Plant', axis = 1).columns\n",
    "for i in df1:\n",
    "    plt.figure(figsize =(7, 7))\n",
    "    sns.boxplot(new[i], orient= 'v')\n",
    "    \n",
    "    \n",
    "    "
   ]
  },
  {
   "cell_type": "code",
   "execution_count": 8,
   "id": "8987dcd7",
   "metadata": {},
   "outputs": [
    {
     "data": {
      "image/png": "[encoded data removed]",
      "text/plain": [
       "<Figure size 360x360 with 1 Axes>"
      ]
     },
     "metadata": {
      "needs_background": "light"
     },
     "output_type": "display_data"
    },
    {
     "data": {
      "text/plain": [
       "<Figure size 720x720 with 0 Axes>"
      ]
     },
     "metadata": {},
     "output_type": "display_data"
    },
    {
     "data": {
      "image/png": "[encoded data removed]",
      "text/plain": [
       "<Figure size 360x360 with 1 Axes>"
      ]
     },
     "metadata": {
      "needs_background": "light"
     },
     "output_type": "display_data"
    },
    {
     "data": {
      "text/plain": [
       "<Figure size 720x720 with 0 Axes>"
      ]
     },
     "metadata": {},
     "output_type": "display_data"
    },
    {
     "data": {
      "image/png": "[encoded data removed]",
      "text/plain": [
       "<Figure size 360x360 with 1 Axes>"
      ]
     },
     "metadata": {
      "needs_background": "light"
     },
     "output_type": "display_data"
    },
    {
     "data": {
      "text/plain": [
       "<Figure size 720x720 with 0 Axes>"
      ]
     },
     "metadata": {},
     "output_type": "display_data"
    },
    {
     "data": {
      "image/png": "[encoded data removed]",
      "text/plain": [
       "<Figure size 360x360 with 1 Axes>"
      ]
     },
     "metadata": {
      "needs_background": "light"
     },
     "output_type": "display_data"
    },
    {
     "data": {
      "text/plain": [
       "<Figure size 720x720 with 0 Axes>"
      ]
     },
     "metadata": {},
     "output_type": "display_data"
    },
    {
     "data": {
      "image/png": "[encoded data removed]",
      "text/plain": [
       "<Figure size 360x360 with 1 Axes>"
      ]
     },
     "metadata": {
      "needs_background": "light"
     },
     "output_type": "display_data"
    },
    {
     "data": {
      "text/plain": [
       "<Figure size 720x720 with 0 Axes>"
      ]
     },
     "metadata": {},
     "output_type": "display_data"
    },
    {
     "data": {
      "image/png": "[encoded data removed]",
      "text/plain": [
       "<Figure size 360x360 with 1 Axes>"
      ]
     },
     "metadata": {
      "needs_background": "light"
     },
     "output_type": "display_data"
    },
    {
     "data": {
      "text/plain": [
       "<Figure size 720x720 with 0 Axes>"
      ]
     },
     "metadata": {},
     "output_type": "display_data"
    },
    {
     "data": {
      "image/png": "[encoded data removed]",
      "text/plain": [
       "<Figure size 360x360 with 1 Axes>"
      ]
     },
     "metadata": {
      "needs_background": "light"
     },
     "output_type": "display_data"
    },
    {
     "data": {
      "text/plain": [
       "<Figure size 720x720 with 0 Axes>"
      ]
     },
     "metadata": {},
     "output_type": "display_data"
    }
   ],
   "source": [
    "for i in new.columns:   \n",
    "    sns.displot(x=new[i], data=new, binwidth=3)\n",
    "    plt.figure(figsize =(10, 10))\n"
   ]
  },
  {
   "cell_type": "code",
   "execution_count": 9,
   "id": "2e3eafad",
   "metadata": {
    "scrolled": true
   },
   "outputs": [
    {
     "name": "stdout",
     "output_type": "stream",
     "text": [
      "Column 'N' has 12488 outliers.\n",
      "\n",
      "Column 'P' has 17034 outliers.\n",
      "\n",
      "Column 'K' has 23264 outliers.\n",
      "\n",
      "Column 'pH' has 0 outliers.\n",
      "\n",
      "Column 'Rainfall' has 14544 outliers.\n",
      "\n",
      "Column 'Temperature' has 0 outliers.\n",
      "\n"
     ]
    }
   ],
   "source": [
    "# Iterate through each column in the dataset\n",
    "from scipy.stats import zscore\n",
    "for column in df1:\n",
    "    z_scores = zscore(new[column])  \n",
    "    # Identify the outliers based on a threshold\n",
    "    outliers = new[abs(z_scores) > 3] \n",
    "    print(f\"Column '{column}' has {len(outliers)} outliers.\\n\")"
   ]
  },
  {
   "cell_type": "code",
   "execution_count": 10,
   "id": "ca3719d5",
   "metadata": {},
   "outputs": [
    {
     "name": "stdout",
     "output_type": "stream",
     "text": [
      "N              1.933959\n",
      "P              2.706678\n",
      "K              1.918717\n",
      "pH            -0.138905\n",
      "Rainfall       1.496769\n",
      "Temperature   -0.110548\n",
      "dtype: float64\n"
     ]
    }
   ],
   "source": [
    "print(new.skew(numeric_only=True))"
   ]
  },
  {
   "cell_type": "markdown",
   "id": "bb63e9a1",
   "metadata": {},
   "source": [
    "From the exploratory analysis done above, it can be seen that there are outliers in the dataframe. Now let us remove the outliers"
   ]
  },
  {
   "cell_type": "markdown",
   "id": "0fdc3ce4",
   "metadata": {},
   "source": [
    "### Checking for multicolinearityColinearity "
   ]
  },
  {
   "cell_type": "code",
   "execution_count": 11,
   "id": "4ed14daf",
   "metadata": {
    "scrolled": true
   },
   "outputs": [
    {
     "data": {
      "text/plain": [
       "<AxesSubplot:>"
      ]
     },
     "execution_count": 11,
     "metadata": {},
     "output_type": "execute_result"
    },
    {
     "data": {
      "image/png": "[encoded data removed]",
      "text/plain": [
       "<Figure size 720x504 with 2 Axes>"
      ]
     },
     "metadata": {
      "needs_background": "light"
     },
     "output_type": "display_data"
    }
   ],
   "source": [
    "plt.figure(figsize =(10, 7))\n",
    "sns.heatmap(new.corr(), annot= True)"
   ]
  },
  {
   "cell_type": "markdown",
   "id": "b143bcb9",
   "metadata": {},
   "source": [
    "### Data preprocessing"
   ]
  },
  {
   "cell_type": "code",
   "execution_count": 12,
   "id": "3f5fdbfd",
   "metadata": {
    "scrolled": true
   },
   "outputs": [
    {
     "data": {
      "text/html": [
       "<div>\n",
       "<style scoped>\n",
       "    .dataframe tbody tr th:only-of-type {\n",
       "        vertical-align: middle;\n",
       "    }\n",
       "\n",
       "    .dataframe tbody tr th {\n",
       "        vertical-align: top;\n",
       "    }\n",
       "\n",
       "    .dataframe thead th {\n",
       "        text-align: right;\n",
       "    }\n",
       "</style>\n",
       "<table border=\"1\" class=\"dataframe\">\n",
       "  <thead>\n",
       "    <tr style=\"text-align: right;\">\n",
       "      <th></th>\n",
       "      <th>N</th>\n",
       "      <th>P</th>\n",
       "      <th>K</th>\n",
       "      <th>pH</th>\n",
       "      <th>Rainfall</th>\n",
       "      <th>Temperature</th>\n",
       "      <th>Plant</th>\n",
       "    </tr>\n",
       "  </thead>\n",
       "  <tbody>\n",
       "    <tr>\n",
       "      <th>0</th>\n",
       "      <td>3.675500</td>\n",
       "      <td>-0.434408</td>\n",
       "      <td>0.712526</td>\n",
       "      <td>0.356365</td>\n",
       "      <td>-0.568739</td>\n",
       "      <td>-1.593222</td>\n",
       "      <td>bananas</td>\n",
       "    </tr>\n",
       "    <tr>\n",
       "      <th>1</th>\n",
       "      <td>3.675500</td>\n",
       "      <td>-0.434408</td>\n",
       "      <td>0.712526</td>\n",
       "      <td>0.356365</td>\n",
       "      <td>-0.568739</td>\n",
       "      <td>-1.450164</td>\n",
       "      <td>bananas</td>\n",
       "    </tr>\n",
       "    <tr>\n",
       "      <th>2</th>\n",
       "      <td>3.675500</td>\n",
       "      <td>-0.434408</td>\n",
       "      <td>0.712526</td>\n",
       "      <td>0.356365</td>\n",
       "      <td>-0.568739</td>\n",
       "      <td>-1.307106</td>\n",
       "      <td>bananas</td>\n",
       "    </tr>\n",
       "    <tr>\n",
       "      <th>3</th>\n",
       "      <td>3.675500</td>\n",
       "      <td>-0.434408</td>\n",
       "      <td>0.712526</td>\n",
       "      <td>0.356365</td>\n",
       "      <td>-0.568739</td>\n",
       "      <td>-1.164048</td>\n",
       "      <td>bananas</td>\n",
       "    </tr>\n",
       "    <tr>\n",
       "      <th>4</th>\n",
       "      <td>3.675500</td>\n",
       "      <td>-0.434408</td>\n",
       "      <td>0.712526</td>\n",
       "      <td>0.356365</td>\n",
       "      <td>-0.568739</td>\n",
       "      <td>-1.020989</td>\n",
       "      <td>bananas</td>\n",
       "    </tr>\n",
       "    <tr>\n",
       "      <th>...</th>\n",
       "      <td>...</td>\n",
       "      <td>...</td>\n",
       "      <td>...</td>\n",
       "      <td>...</td>\n",
       "      <td>...</td>\n",
       "      <td>...</td>\n",
       "      <td>...</td>\n",
       "    </tr>\n",
       "    <tr>\n",
       "      <th>736329</th>\n",
       "      <td>-0.007926</td>\n",
       "      <td>4.776146</td>\n",
       "      <td>3.372722</td>\n",
       "      <td>0.961275</td>\n",
       "      <td>-0.776766</td>\n",
       "      <td>0.918244</td>\n",
       "      <td>tomatos</td>\n",
       "    </tr>\n",
       "    <tr>\n",
       "      <th>736330</th>\n",
       "      <td>-0.007926</td>\n",
       "      <td>4.776146</td>\n",
       "      <td>3.372722</td>\n",
       "      <td>0.961275</td>\n",
       "      <td>-0.776766</td>\n",
       "      <td>1.061303</td>\n",
       "      <td>tomatos</td>\n",
       "    </tr>\n",
       "    <tr>\n",
       "      <th>736331</th>\n",
       "      <td>-0.007926</td>\n",
       "      <td>4.776146</td>\n",
       "      <td>3.372722</td>\n",
       "      <td>0.961275</td>\n",
       "      <td>-0.776766</td>\n",
       "      <td>1.204361</td>\n",
       "      <td>tomatos</td>\n",
       "    </tr>\n",
       "    <tr>\n",
       "      <th>736332</th>\n",
       "      <td>-0.007926</td>\n",
       "      <td>4.776146</td>\n",
       "      <td>3.372722</td>\n",
       "      <td>0.961275</td>\n",
       "      <td>-0.776766</td>\n",
       "      <td>1.347419</td>\n",
       "      <td>tomatos</td>\n",
       "    </tr>\n",
       "    <tr>\n",
       "      <th>736333</th>\n",
       "      <td>-0.007926</td>\n",
       "      <td>4.776146</td>\n",
       "      <td>3.372722</td>\n",
       "      <td>0.961275</td>\n",
       "      <td>-0.776766</td>\n",
       "      <td>1.490477</td>\n",
       "      <td>tomatos</td>\n",
       "    </tr>\n",
       "  </tbody>\n",
       "</table>\n",
       "<p>736334 rows × 7 columns</p>\n",
       "</div>"
      ],
      "text/plain": [
       "               N         P         K        pH  Rainfall  Temperature    Plant\n",
       "0       3.675500 -0.434408  0.712526  0.356365 -0.568739    -1.593222  bananas\n",
       "1       3.675500 -0.434408  0.712526  0.356365 -0.568739    -1.450164  bananas\n",
       "2       3.675500 -0.434408  0.712526  0.356365 -0.568739    -1.307106  bananas\n",
       "3       3.675500 -0.434408  0.712526  0.356365 -0.568739    -1.164048  bananas\n",
       "4       3.675500 -0.434408  0.712526  0.356365 -0.568739    -1.020989  bananas\n",
       "...          ...       ...       ...       ...       ...          ...      ...\n",
       "736329 -0.007926  4.776146  3.372722  0.961275 -0.776766     0.918244  tomatos\n",
       "736330 -0.007926  4.776146  3.372722  0.961275 -0.776766     1.061303  tomatos\n",
       "736331 -0.007926  4.776146  3.372722  0.961275 -0.776766     1.204361  tomatos\n",
       "736332 -0.007926  4.776146  3.372722  0.961275 -0.776766     1.347419  tomatos\n",
       "736333 -0.007926  4.776146  3.372722  0.961275 -0.776766     1.490477  tomatos\n",
       "\n",
       "[736334 rows x 7 columns]"
      ]
     },
     "execution_count": 12,
     "metadata": {},
     "output_type": "execute_result"
    }
   ],
   "source": [
    "#scaling the data because the rainfall feature is too large as compared to the other features\n",
    "from sklearn.preprocessing import StandardScaler\n",
    "ss = StandardScaler()\n",
    "scaled_df = ss.fit_transform(new.drop('Plant', axis = 1))\n",
    "scaled_df = pd.DataFrame(scaled_df, columns=new.drop('Plant', axis = 1).columns)\n",
    "scaled_df['Plant'] = new['Plant']\n",
    "scaled_df"
   ]
  },
  {
   "cell_type": "code",
   "execution_count": 13,
   "id": "9ddcb095",
   "metadata": {},
   "outputs": [
    {
     "name": "stdout",
     "output_type": "stream",
     "text": [
      "N              1.933959\n",
      "P              2.706678\n",
      "K              1.918717\n",
      "pH            -0.138905\n",
      "Rainfall       1.496769\n",
      "Temperature   -0.110548\n",
      "dtype: float64\n"
     ]
    }
   ],
   "source": [
    "print(scaled_df.skew(numeric_only=True))\n"
   ]
  },
  {
   "cell_type": "markdown",
   "id": "cf757edc",
   "metadata": {},
   "source": [
    "#### Data visualization with distplot to see the distribution and identify skewness in our data"
   ]
  },
  {
   "cell_type": "code",
   "execution_count": 14,
   "id": "75634c94",
   "metadata": {},
   "outputs": [
    {
     "data": {
      "image/png": "[encoded data removed]",
      "text/plain": [
       "<Figure size 360x360 with 1 Axes>"
      ]
     },
     "metadata": {
      "needs_background": "light"
     },
     "output_type": "display_data"
    },
    {
     "data": {
      "image/png": "[encoded data removed]",
      "text/plain": [
       "<Figure size 360x360 with 1 Axes>"
      ]
     },
     "metadata": {
      "needs_background": "light"
     },
     "output_type": "display_data"
    },
    {
     "data": {
      "image/png": "[encoded data removed]",
      "text/plain": [
       "<Figure size 360x360 with 1 Axes>"
      ]
     },
     "metadata": {
      "needs_background": "light"
     },
     "output_type": "display_data"
    },
    {
     "data": {
      "image/png": "[encoded data removed]",
      "text/plain": [
       "<Figure size 360x360 with 1 Axes>"
      ]
     },
     "metadata": {
      "needs_background": "light"
     },
     "output_type": "display_data"
    },
    {
     "data": {
      "image/png": "[encoded data removed]",
      "text/plain": [
       "<Figure size 360x360 with 1 Axes>"
      ]
     },
     "metadata": {
      "needs_background": "light"
     },
     "output_type": "display_data"
    },
    {
     "data": {
      "image/png": "[encoded data removed]",
      "text/plain": [
       "<Figure size 360x360 with 1 Axes>"
      ]
     },
     "metadata": {
      "needs_background": "light"
     },
     "output_type": "display_data"
    },
    {
     "data": {
      "image/png": "[encoded data removed]",
      "text/plain": [
       "<Figure size 360x360 with 1 Axes>"
      ]
     },
     "metadata": {
      "needs_background": "light"
     },
     "output_type": "display_data"
    }
   ],
   "source": [
    "\n",
    "for i in scaled_df.columns:   \n",
    "        sns.displot(x=scaled_df[i], data=scaled_df, binwidth=0.3)\n",
    "        "
   ]
  },
  {
   "cell_type": "code",
   "execution_count": 15,
   "id": "94822646",
   "metadata": {},
   "outputs": [
    {
     "name": "stdout",
     "output_type": "stream",
     "text": [
      "Column 'N' has 12488 outliers.\n",
      "\n",
      "Column 'P' has 17034 outliers.\n",
      "\n",
      "Column 'K' has 23264 outliers.\n",
      "\n",
      "Column 'pH' has 0 outliers.\n",
      "\n",
      "Column 'Rainfall' has 14544 outliers.\n",
      "\n",
      "Column 'Temperature' has 0 outliers.\n",
      "\n"
     ]
    }
   ],
   "source": [
    "# Iterate through each column in the dataset\n",
    "new_df1 = scaled_df.drop(columns = 'Plant', axis = 1).columns\n",
    "from scipy.stats import zscore\n",
    "for column in new_df1:\n",
    "    z_scores = zscore(scaled_df[column])  \n",
    "    # Identify the outliers based on a threshold\n",
    "    outliers = scaled_df[abs(z_scores) > 3] \n",
    "    print(f\"Column '{column}' has {len(outliers)} outliers.\\n\")"
   ]
  },
  {
   "cell_type": "code",
   "execution_count": 16,
   "id": "b61f0d19",
   "metadata": {
    "scrolled": true
   },
   "outputs": [
    {
     "name": "stdout",
     "output_type": "stream",
     "text": [
      "<class 'pandas.core.frame.DataFrame'>\n",
      "RangeIndex: 736334 entries, 0 to 736333\n",
      "Data columns (total 7 columns):\n",
      " #   Column       Non-Null Count   Dtype  \n",
      "---  ------       --------------   -----  \n",
      " 0   N            736334 non-null  float64\n",
      " 1   P            736334 non-null  float64\n",
      " 2   K            736334 non-null  float64\n",
      " 3   pH           736334 non-null  float64\n",
      " 4   Rainfall     736334 non-null  float64\n",
      " 5   Temperature  736334 non-null  float64\n",
      " 6   Plant        736334 non-null  object \n",
      "dtypes: float64(6), object(1)\n",
      "memory usage: 39.3+ MB\n"
     ]
    }
   ],
   "source": [
    "scaled_df.info()"
   ]
  },
  {
   "cell_type": "markdown",
   "id": "838e6b80",
   "metadata": {},
   "source": [
    ". From the visualisation, z-score, and skweness we can see that the data has many outliers and therefore what we did to remove these outliers was to observe the points from the plots were the outliers begina nd manually remove them. \n",
    "\n",
    ". Another veruification is done to see if there are still outliers \n",
    "\n",
    ". From the heatmap we can see that the features K, N and P are highly colinear and therefore should be drop to optimise our model \n"
   ]
  },
  {
   "cell_type": "markdown",
   "id": "6da8b0fb",
   "metadata": {},
   "source": [
    "### Manually removing outliers by dropping the outliers rows"
   ]
  },
  {
   "cell_type": "code",
   "execution_count": 17,
   "id": "24c239de",
   "metadata": {},
   "outputs": [],
   "source": [
    "df_mask = scaled_df[(scaled_df['N']>1) | (scaled_df['P']>1.5) | (scaled_df['K']>2) | (scaled_df['Rainfall']>1) ]"
   ]
  },
  {
   "cell_type": "code",
   "execution_count": 18,
   "id": "9b646351",
   "metadata": {},
   "outputs": [],
   "source": [
    "new_df = scaled_df.drop(df_mask.index)"
   ]
  },
  {
   "cell_type": "code",
   "execution_count": 19,
   "id": "074cb1a1",
   "metadata": {
    "scrolled": true
   },
   "outputs": [
    {
     "data": {
      "text/html": [
       "<div>\n",
       "<style scoped>\n",
       "    .dataframe tbody tr th:only-of-type {\n",
       "        vertical-align: middle;\n",
       "    }\n",
       "\n",
       "    .dataframe tbody tr th {\n",
       "        vertical-align: top;\n",
       "    }\n",
       "\n",
       "    .dataframe thead th {\n",
       "        text-align: right;\n",
       "    }\n",
       "</style>\n",
       "<table border=\"1\" class=\"dataframe\">\n",
       "  <thead>\n",
       "    <tr style=\"text-align: right;\">\n",
       "      <th></th>\n",
       "      <th>N</th>\n",
       "      <th>P</th>\n",
       "      <th>K</th>\n",
       "      <th>pH</th>\n",
       "      <th>Rainfall</th>\n",
       "      <th>Temperature</th>\n",
       "      <th>Plant</th>\n",
       "    </tr>\n",
       "  </thead>\n",
       "  <tbody>\n",
       "    <tr>\n",
       "      <th>12488</th>\n",
       "      <td>-0.744611</td>\n",
       "      <td>-0.694936</td>\n",
       "      <td>-0.883592</td>\n",
       "      <td>-0.399773</td>\n",
       "      <td>-1.399601</td>\n",
       "      <td>-1.593222</td>\n",
       "      <td>bean</td>\n",
       "    </tr>\n",
       "    <tr>\n",
       "      <th>12489</th>\n",
       "      <td>-0.744611</td>\n",
       "      <td>-0.694936</td>\n",
       "      <td>-0.883592</td>\n",
       "      <td>-0.399773</td>\n",
       "      <td>-1.399601</td>\n",
       "      <td>-1.450164</td>\n",
       "      <td>bean</td>\n",
       "    </tr>\n",
       "    <tr>\n",
       "      <th>12490</th>\n",
       "      <td>-0.744611</td>\n",
       "      <td>-0.694936</td>\n",
       "      <td>-0.883592</td>\n",
       "      <td>-0.399773</td>\n",
       "      <td>-1.399601</td>\n",
       "      <td>-1.307106</td>\n",
       "      <td>bean</td>\n",
       "    </tr>\n",
       "    <tr>\n",
       "      <th>12491</th>\n",
       "      <td>-0.744611</td>\n",
       "      <td>-0.694936</td>\n",
       "      <td>-0.883592</td>\n",
       "      <td>-0.399773</td>\n",
       "      <td>-1.399601</td>\n",
       "      <td>-1.164048</td>\n",
       "      <td>bean</td>\n",
       "    </tr>\n",
       "    <tr>\n",
       "      <th>12492</th>\n",
       "      <td>-0.744611</td>\n",
       "      <td>-0.694936</td>\n",
       "      <td>-0.883592</td>\n",
       "      <td>-0.399773</td>\n",
       "      <td>-1.399601</td>\n",
       "      <td>-1.020989</td>\n",
       "      <td>bean</td>\n",
       "    </tr>\n",
       "    <tr>\n",
       "      <th>...</th>\n",
       "      <td>...</td>\n",
       "      <td>...</td>\n",
       "      <td>...</td>\n",
       "      <td>...</td>\n",
       "      <td>...</td>\n",
       "      <td>...</td>\n",
       "      <td>...</td>\n",
       "    </tr>\n",
       "    <tr>\n",
       "      <th>627711</th>\n",
       "      <td>-0.560440</td>\n",
       "      <td>-0.434408</td>\n",
       "      <td>-0.706246</td>\n",
       "      <td>-0.551000</td>\n",
       "      <td>0.999098</td>\n",
       "      <td>-0.591815</td>\n",
       "      <td>tea-plant</td>\n",
       "    </tr>\n",
       "    <tr>\n",
       "      <th>627712</th>\n",
       "      <td>-0.560440</td>\n",
       "      <td>-0.434408</td>\n",
       "      <td>-0.706246</td>\n",
       "      <td>-0.551000</td>\n",
       "      <td>0.999098</td>\n",
       "      <td>-0.448757</td>\n",
       "      <td>tea-plant</td>\n",
       "    </tr>\n",
       "    <tr>\n",
       "      <th>627713</th>\n",
       "      <td>-0.560440</td>\n",
       "      <td>-0.434408</td>\n",
       "      <td>-0.706246</td>\n",
       "      <td>-0.551000</td>\n",
       "      <td>0.999098</td>\n",
       "      <td>-0.305698</td>\n",
       "      <td>tea-plant</td>\n",
       "    </tr>\n",
       "    <tr>\n",
       "      <th>627714</th>\n",
       "      <td>-0.560440</td>\n",
       "      <td>-0.434408</td>\n",
       "      <td>-0.706246</td>\n",
       "      <td>-0.551000</td>\n",
       "      <td>0.999098</td>\n",
       "      <td>-0.162640</td>\n",
       "      <td>tea-plant</td>\n",
       "    </tr>\n",
       "    <tr>\n",
       "      <th>627715</th>\n",
       "      <td>-0.560440</td>\n",
       "      <td>-0.434408</td>\n",
       "      <td>-0.706246</td>\n",
       "      <td>-0.551000</td>\n",
       "      <td>0.999098</td>\n",
       "      <td>-0.019582</td>\n",
       "      <td>tea-plant</td>\n",
       "    </tr>\n",
       "  </tbody>\n",
       "</table>\n",
       "<p>507957 rows × 7 columns</p>\n",
       "</div>"
      ],
      "text/plain": [
       "               N         P         K        pH  Rainfall  Temperature  \\\n",
       "12488  -0.744611 -0.694936 -0.883592 -0.399773 -1.399601    -1.593222   \n",
       "12489  -0.744611 -0.694936 -0.883592 -0.399773 -1.399601    -1.450164   \n",
       "12490  -0.744611 -0.694936 -0.883592 -0.399773 -1.399601    -1.307106   \n",
       "12491  -0.744611 -0.694936 -0.883592 -0.399773 -1.399601    -1.164048   \n",
       "12492  -0.744611 -0.694936 -0.883592 -0.399773 -1.399601    -1.020989   \n",
       "...          ...       ...       ...       ...       ...          ...   \n",
       "627711 -0.560440 -0.434408 -0.706246 -0.551000  0.999098    -0.591815   \n",
       "627712 -0.560440 -0.434408 -0.706246 -0.551000  0.999098    -0.448757   \n",
       "627713 -0.560440 -0.434408 -0.706246 -0.551000  0.999098    -0.305698   \n",
       "627714 -0.560440 -0.434408 -0.706246 -0.551000  0.999098    -0.162640   \n",
       "627715 -0.560440 -0.434408 -0.706246 -0.551000  0.999098    -0.019582   \n",
       "\n",
       "            Plant  \n",
       "12488        bean  \n",
       "12489        bean  \n",
       "12490        bean  \n",
       "12491        bean  \n",
       "12492        bean  \n",
       "...           ...  \n",
       "627711  tea-plant  \n",
       "627712  tea-plant  \n",
       "627713  tea-plant  \n",
       "627714  tea-plant  \n",
       "627715  tea-plant  \n",
       "\n",
       "[507957 rows x 7 columns]"
      ]
     },
     "execution_count": 19,
     "metadata": {},
     "output_type": "execute_result"
    }
   ],
   "source": [
    "new_df"
   ]
  },
  {
   "cell_type": "code",
   "execution_count": 20,
   "id": "922dba68",
   "metadata": {},
   "outputs": [
    {
     "name": "stdout",
     "output_type": "stream",
     "text": [
      "Column 'N' has 0 outliers.\n",
      "\n",
      "Column 'P' has 0 outliers.\n",
      "\n",
      "Column 'K' has 0 outliers.\n",
      "\n",
      "Column 'pH' has 0 outliers.\n",
      "\n",
      "Column 'Rainfall' has 0 outliers.\n",
      "\n",
      "Column 'Temperature' has 0 outliers.\n",
      "\n"
     ]
    }
   ],
   "source": [
    "# Iterate through each column in the dataset\n",
    "new_df1 = new_df.drop(columns = 'Plant', axis = 1).columns\n",
    "from scipy.stats import zscore\n",
    "for column in new_df1:\n",
    "    z_scores = zscore(new_df[column])  \n",
    "    # Identify the outliers based on a threshold\n",
    "    outliers = new_df[abs(z_scores) > 3] \n",
    "    print(f\"Column '{column}' has {len(outliers)} outliers.\\n\")"
   ]
  },
  {
   "cell_type": "code",
   "execution_count": 21,
   "id": "2c1c774b",
   "metadata": {},
   "outputs": [
    {
     "name": "stderr",
     "output_type": "stream",
     "text": [
      "C:\\Users\\vtebo\\anaconda3\\lib\\site-packages\\seaborn\\_decorators.py:36: FutureWarning: Pass the following variable as a keyword arg: x. From version 0.12, the only valid positional argument will be `data`, and passing other arguments without an explicit keyword will result in an error or misinterpretation.\n",
      "  warnings.warn(\n",
      "C:\\Users\\vtebo\\anaconda3\\lib\\site-packages\\seaborn\\_core.py:1326: UserWarning: Vertical orientation ignored with only `x` specified.\n",
      "  warnings.warn(single_var_warning.format(\"Vertical\", \"x\"))\n",
      "C:\\Users\\vtebo\\anaconda3\\lib\\site-packages\\seaborn\\_decorators.py:36: FutureWarning: Pass the following variable as a keyword arg: x. From version 0.12, the only valid positional argument will be `data`, and passing other arguments without an explicit keyword will result in an error or misinterpretation.\n",
      "  warnings.warn(\n",
      "C:\\Users\\vtebo\\anaconda3\\lib\\site-packages\\seaborn\\_core.py:1326: UserWarning: Vertical orientation ignored with only `x` specified.\n",
      "  warnings.warn(single_var_warning.format(\"Vertical\", \"x\"))\n",
      "C:\\Users\\vtebo\\anaconda3\\lib\\site-packages\\seaborn\\_decorators.py:36: FutureWarning: Pass the following variable as a keyword arg: x. From version 0.12, the only valid positional argument will be `data`, and passing other arguments without an explicit keyword will result in an error or misinterpretation.\n",
      "  warnings.warn(\n",
      "C:\\Users\\vtebo\\anaconda3\\lib\\site-packages\\seaborn\\_core.py:1326: UserWarning: Vertical orientation ignored with only `x` specified.\n",
      "  warnings.warn(single_var_warning.format(\"Vertical\", \"x\"))\n",
      "C:\\Users\\vtebo\\anaconda3\\lib\\site-packages\\seaborn\\_decorators.py:36: FutureWarning: Pass the following variable as a keyword arg: x. From version 0.12, the only valid positional argument will be `data`, and passing other arguments without an explicit keyword will result in an error or misinterpretation.\n",
      "  warnings.warn(\n",
      "C:\\Users\\vtebo\\anaconda3\\lib\\site-packages\\seaborn\\_core.py:1326: UserWarning: Vertical orientation ignored with only `x` specified.\n",
      "  warnings.warn(single_var_warning.format(\"Vertical\", \"x\"))\n",
      "C:\\Users\\vtebo\\anaconda3\\lib\\site-packages\\seaborn\\_decorators.py:36: FutureWarning: Pass the following variable as a keyword arg: x. From version 0.12, the only valid positional argument will be `data`, and passing other arguments without an explicit keyword will result in an error or misinterpretation.\n",
      "  warnings.warn(\n",
      "C:\\Users\\vtebo\\anaconda3\\lib\\site-packages\\seaborn\\_core.py:1326: UserWarning: Vertical orientation ignored with only `x` specified.\n",
      "  warnings.warn(single_var_warning.format(\"Vertical\", \"x\"))\n",
      "C:\\Users\\vtebo\\anaconda3\\lib\\site-packages\\seaborn\\_decorators.py:36: FutureWarning: Pass the following variable as a keyword arg: x. From version 0.12, the only valid positional argument will be `data`, and passing other arguments without an explicit keyword will result in an error or misinterpretation.\n",
      "  warnings.warn(\n",
      "C:\\Users\\vtebo\\anaconda3\\lib\\site-packages\\seaborn\\_core.py:1326: UserWarning: Vertical orientation ignored with only `x` specified.\n",
      "  warnings.warn(single_var_warning.format(\"Vertical\", \"x\"))\n"
     ]
    },
    {
     "data": {
      "image/png": "[encoded data removed]",
      "text/plain": [
       "<Figure size 504x504 with 1 Axes>"
      ]
     },
     "metadata": {
      "needs_background": "light"
     },
     "output_type": "display_data"
    },
    {
     "data": {
      "image/png": "[encoded data removed]",
      "text/plain": [
       "<Figure size 504x504 with 1 Axes>"
      ]
     },
     "metadata": {
      "needs_background": "light"
     },
     "output_type": "display_data"
    },
    {
     "data": {
      "image/png": "[encoded data removed]",
      "text/plain": [
       "<Figure size 504x504 with 1 Axes>"
      ]
     },
     "metadata": {
      "needs_background": "light"
     },
     "output_type": "display_data"
    },
    {
     "data": {
      "image/png": "[encoded data removed]",
      "text/plain": [
       "<Figure size 504x504 with 1 Axes>"
      ]
     },
     "metadata": {
      "needs_background": "light"
     },
     "output_type": "display_data"
    },
    {
     "data": {
      "image/png": "[encoded data removed]",
      "text/plain": [
       "<Figure size 504x504 with 1 Axes>"
      ]
     },
     "metadata": {
      "needs_background": "light"
     },
     "output_type": "display_data"
    },
    {
     "data": {
      "image/png": "[encoded data removed]",
      "text/plain": [
       "<Figure size 504x504 with 1 Axes>"
      ]
     },
     "metadata": {
      "needs_background": "light"
     },
     "output_type": "display_data"
    }
   ],
   "source": [
    "df1 = new_df.drop(columns = 'Plant', axis = 1).columns\n",
    "for i in df1:\n",
    "    plt.figure(figsize =(7, 7))\n",
    "    sns.boxplot(new_df[i], orient= 'v')"
   ]
  },
  {
   "cell_type": "code",
   "execution_count": 22,
   "id": "58a9ca16",
   "metadata": {},
   "outputs": [
    {
     "data": {
      "image/png": "[encoded data removed]",
      "text/plain": [
       "<Figure size 360x360 with 1 Axes>"
      ]
     },
     "metadata": {
      "needs_background": "light"
     },
     "output_type": "display_data"
    },
    {
     "data": {
      "text/plain": [
       "<Figure size 720x720 with 0 Axes>"
      ]
     },
     "metadata": {},
     "output_type": "display_data"
    },
    {
     "data": {
      "image/png": "[encoded data removed]",
      "text/plain": [
       "<Figure size 360x360 with 1 Axes>"
      ]
     },
     "metadata": {
      "needs_background": "light"
     },
     "output_type": "display_data"
    },
    {
     "data": {
      "text/plain": [
       "<Figure size 720x720 with 0 Axes>"
      ]
     },
     "metadata": {},
     "output_type": "display_data"
    },
    {
     "data": {
      "image/png": "[encoded data removed]",
      "text/plain": [
       "<Figure size 360x360 with 1 Axes>"
      ]
     },
     "metadata": {
      "needs_background": "light"
     },
     "output_type": "display_data"
    },
    {
     "data": {
      "text/plain": [
       "<Figure size 720x720 with 0 Axes>"
      ]
     },
     "metadata": {},
     "output_type": "display_data"
    },
    {
     "data": {
      "image/png": "[encoded data removed]",
      "text/plain": [
       "<Figure size 360x360 with 1 Axes>"
      ]
     },
     "metadata": {
      "needs_background": "light"
     },
     "output_type": "display_data"
    },
    {
     "data": {
      "text/plain": [
       "<Figure size 720x720 with 0 Axes>"
      ]
     },
     "metadata": {},
     "output_type": "display_data"
    },
    {
     "data": {
      "image/png": "[encoded data removed]",
      "text/plain": [
       "<Figure size 360x360 with 1 Axes>"
      ]
     },
     "metadata": {
      "needs_background": "light"
     },
     "output_type": "display_data"
    },
    {
     "data": {
      "text/plain": [
       "<Figure size 720x720 with 0 Axes>"
      ]
     },
     "metadata": {},
     "output_type": "display_data"
    },
    {
     "data": {
      "image/png": "[encoded data removed]",
      "text/plain": [
       "<Figure size 360x360 with 1 Axes>"
      ]
     },
     "metadata": {
      "needs_background": "light"
     },
     "output_type": "display_data"
    },
    {
     "data": {
      "text/plain": [
       "<Figure size 720x720 with 0 Axes>"
      ]
     },
     "metadata": {},
     "output_type": "display_data"
    },
    {
     "data": {
      "image/png": "[encoded data removed]",
      "text/plain": [
       "<Figure size 360x360 with 1 Axes>"
      ]
     },
     "metadata": {
      "needs_background": "light"
     },
     "output_type": "display_data"
    },
    {
     "data": {
      "text/plain": [
       "<Figure size 720x720 with 0 Axes>"
      ]
     },
     "metadata": {},
     "output_type": "display_data"
    }
   ],
   "source": [
    "for i in new_df.columns:   \n",
    "    sns.displot(x=new_df[i], data=new_df, binwidth=0.3)\n",
    "    plt.figure(figsize =(10, 10))"
   ]
  },
  {
   "cell_type": "code",
   "execution_count": 23,
   "id": "cccb6c60",
   "metadata": {},
   "outputs": [
    {
     "data": {
      "text/plain": [
       "<AxesSubplot:>"
      ]
     },
     "execution_count": 23,
     "metadata": {},
     "output_type": "execute_result"
    },
    {
     "data": {
      "image/png": "[encoded data removed]",
      "text/plain": [
       "<Figure size 720x504 with 2 Axes>"
      ]
     },
     "metadata": {
      "needs_background": "light"
     },
     "output_type": "display_data"
    }
   ],
   "source": [
    "plt.figure(figsize =(10, 7))\n",
    "sns.heatmap(new_df.corr(), annot= True)"
   ]
  },
  {
   "cell_type": "markdown",
   "id": "7b1c3582",
   "metadata": {},
   "source": [
    "### Train the Model"
   ]
  },
  {
   "cell_type": "markdown",
   "id": "05ef4be1",
   "metadata": {},
   "source": [
    "This is a classification model problem and therefore we will impliment a classifier."
   ]
  },
  {
   "cell_type": "code",
   "execution_count": 46,
   "id": "412030a8",
   "metadata": {},
   "outputs": [],
   "source": [
    "#splitting the data into test and train\n",
    "X = new_df.drop(columns = ['Plant', 'N'], axis = 1)\n",
    "y = new_df['Plant']\n",
    "\n",
    "X_train, X_test, y_train, y_test = train_test_split(X, y, test_size=0.20, random_state=42)"
   ]
  },
  {
   "cell_type": "code",
   "execution_count": 47,
   "id": "6b971cd5",
   "metadata": {
    "scrolled": true
   },
   "outputs": [
    {
     "data": {
      "text/html": [
       "<div>\n",
       "<style scoped>\n",
       "    .dataframe tbody tr th:only-of-type {\n",
       "        vertical-align: middle;\n",
       "    }\n",
       "\n",
       "    .dataframe tbody tr th {\n",
       "        vertical-align: top;\n",
       "    }\n",
       "\n",
       "    .dataframe thead th {\n",
       "        text-align: right;\n",
       "    }\n",
       "</style>\n",
       "<table border=\"1\" class=\"dataframe\">\n",
       "  <thead>\n",
       "    <tr style=\"text-align: right;\">\n",
       "      <th></th>\n",
       "      <th>P</th>\n",
       "      <th>K</th>\n",
       "      <th>pH</th>\n",
       "      <th>Rainfall</th>\n",
       "      <th>Temperature</th>\n",
       "    </tr>\n",
       "  </thead>\n",
       "  <tbody>\n",
       "    <tr>\n",
       "      <th>61839</th>\n",
       "      <td>-0.434408</td>\n",
       "      <td>-0.794919</td>\n",
       "      <td>0.356365</td>\n",
       "      <td>0.594779</td>\n",
       "      <td>-0.019582</td>\n",
       "    </tr>\n",
       "    <tr>\n",
       "      <th>186060</th>\n",
       "      <td>-0.390987</td>\n",
       "      <td>-0.528899</td>\n",
       "      <td>-0.475387</td>\n",
       "      <td>0.292865</td>\n",
       "      <td>0.266535</td>\n",
       "    </tr>\n",
       "    <tr>\n",
       "      <th>30795</th>\n",
       "      <td>-0.694936</td>\n",
       "      <td>-0.883592</td>\n",
       "      <td>-0.399773</td>\n",
       "      <td>-0.829422</td>\n",
       "      <td>-0.591815</td>\n",
       "    </tr>\n",
       "    <tr>\n",
       "      <th>364006</th>\n",
       "      <td>-0.000195</td>\n",
       "      <td>-0.883592</td>\n",
       "      <td>-1.155910</td>\n",
       "      <td>-0.738754</td>\n",
       "      <td>1.331524</td>\n",
       "    </tr>\n",
       "    <tr>\n",
       "      <th>22861</th>\n",
       "      <td>-0.694936</td>\n",
       "      <td>-0.883592</td>\n",
       "      <td>0.280751</td>\n",
       "      <td>-1.077123</td>\n",
       "      <td>-0.448757</td>\n",
       "    </tr>\n",
       "    <tr>\n",
       "      <th>...</th>\n",
       "      <td>...</td>\n",
       "      <td>...</td>\n",
       "      <td>...</td>\n",
       "      <td>...</td>\n",
       "      <td>...</td>\n",
       "    </tr>\n",
       "    <tr>\n",
       "      <th>311919</th>\n",
       "      <td>1.085337</td>\n",
       "      <td>-0.262880</td>\n",
       "      <td>1.036889</td>\n",
       "      <td>-0.596988</td>\n",
       "      <td>0.775186</td>\n",
       "    </tr>\n",
       "    <tr>\n",
       "      <th>59921</th>\n",
       "      <td>-0.434408</td>\n",
       "      <td>-0.794919</td>\n",
       "      <td>0.356365</td>\n",
       "      <td>0.505046</td>\n",
       "      <td>0.266535</td>\n",
       "    </tr>\n",
       "    <tr>\n",
       "      <th>90826</th>\n",
       "      <td>0.434017</td>\n",
       "      <td>0.003140</td>\n",
       "      <td>0.280751</td>\n",
       "      <td>-0.809689</td>\n",
       "      <td>1.395105</td>\n",
       "    </tr>\n",
       "    <tr>\n",
       "      <th>91563</th>\n",
       "      <td>0.434017</td>\n",
       "      <td>0.003140</td>\n",
       "      <td>0.961275</td>\n",
       "      <td>-0.795668</td>\n",
       "      <td>1.538163</td>\n",
       "    </tr>\n",
       "    <tr>\n",
       "      <th>611571</th>\n",
       "      <td>-0.434408</td>\n",
       "      <td>-0.706246</td>\n",
       "      <td>-1.231524</td>\n",
       "      <td>0.580343</td>\n",
       "      <td>-0.591815</td>\n",
       "    </tr>\n",
       "  </tbody>\n",
       "</table>\n",
       "<p>101592 rows × 5 columns</p>\n",
       "</div>"
      ],
      "text/plain": [
       "               P         K        pH  Rainfall  Temperature\n",
       "61839  -0.434408 -0.794919  0.356365  0.594779    -0.019582\n",
       "186060 -0.390987 -0.528899 -0.475387  0.292865     0.266535\n",
       "30795  -0.694936 -0.883592 -0.399773 -0.829422    -0.591815\n",
       "364006 -0.000195 -0.883592 -1.155910 -0.738754     1.331524\n",
       "22861  -0.694936 -0.883592  0.280751 -1.077123    -0.448757\n",
       "...          ...       ...       ...       ...          ...\n",
       "311919  1.085337 -0.262880  1.036889 -0.596988     0.775186\n",
       "59921  -0.434408 -0.794919  0.356365  0.505046     0.266535\n",
       "90826   0.434017  0.003140  0.280751 -0.809689     1.395105\n",
       "91563   0.434017  0.003140  0.961275 -0.795668     1.538163\n",
       "611571 -0.434408 -0.706246 -1.231524  0.580343    -0.591815\n",
       "\n",
       "[101592 rows x 5 columns]"
      ]
     },
     "execution_count": 47,
     "metadata": {},
     "output_type": "execute_result"
    }
   ],
   "source": [
    "X_test"
   ]
  },
  {
   "cell_type": "code",
   "execution_count": 48,
   "id": "cb7c92ac",
   "metadata": {},
   "outputs": [
    {
     "data": {
      "text/html": [
       "<div>\n",
       "<style scoped>\n",
       "    .dataframe tbody tr th:only-of-type {\n",
       "        vertical-align: middle;\n",
       "    }\n",
       "\n",
       "    .dataframe tbody tr th {\n",
       "        vertical-align: top;\n",
       "    }\n",
       "\n",
       "    .dataframe thead th {\n",
       "        text-align: right;\n",
       "    }\n",
       "</style>\n",
       "<table border=\"1\" class=\"dataframe\">\n",
       "  <thead>\n",
       "    <tr style=\"text-align: right;\">\n",
       "      <th></th>\n",
       "      <th>P</th>\n",
       "      <th>K</th>\n",
       "      <th>pH</th>\n",
       "      <th>Rainfall</th>\n",
       "      <th>Temperature</th>\n",
       "    </tr>\n",
       "  </thead>\n",
       "  <tbody>\n",
       "    <tr>\n",
       "      <th>P</th>\n",
       "      <td>1.000000</td>\n",
       "      <td>0.407951</td>\n",
       "      <td>0.267245</td>\n",
       "      <td>-0.284336</td>\n",
       "      <td>0.133723</td>\n",
       "    </tr>\n",
       "    <tr>\n",
       "      <th>K</th>\n",
       "      <td>0.407951</td>\n",
       "      <td>1.000000</td>\n",
       "      <td>0.329199</td>\n",
       "      <td>-0.131519</td>\n",
       "      <td>0.065994</td>\n",
       "    </tr>\n",
       "    <tr>\n",
       "      <th>pH</th>\n",
       "      <td>0.267245</td>\n",
       "      <td>0.329199</td>\n",
       "      <td>1.000000</td>\n",
       "      <td>-0.258115</td>\n",
       "      <td>0.108499</td>\n",
       "    </tr>\n",
       "    <tr>\n",
       "      <th>Rainfall</th>\n",
       "      <td>-0.284336</td>\n",
       "      <td>-0.131519</td>\n",
       "      <td>-0.258115</td>\n",
       "      <td>1.000000</td>\n",
       "      <td>-0.079087</td>\n",
       "    </tr>\n",
       "    <tr>\n",
       "      <th>Temperature</th>\n",
       "      <td>0.133723</td>\n",
       "      <td>0.065994</td>\n",
       "      <td>0.108499</td>\n",
       "      <td>-0.079087</td>\n",
       "      <td>1.000000</td>\n",
       "    </tr>\n",
       "  </tbody>\n",
       "</table>\n",
       "</div>"
      ],
      "text/plain": [
       "                    P         K        pH  Rainfall  Temperature\n",
       "P            1.000000  0.407951  0.267245 -0.284336     0.133723\n",
       "K            0.407951  1.000000  0.329199 -0.131519     0.065994\n",
       "pH           0.267245  0.329199  1.000000 -0.258115     0.108499\n",
       "Rainfall    -0.284336 -0.131519 -0.258115  1.000000    -0.079087\n",
       "Temperature  0.133723  0.065994  0.108499 -0.079087     1.000000"
      ]
     },
     "execution_count": 48,
     "metadata": {},
     "output_type": "execute_result"
    }
   ],
   "source": [
    "X_test.corr()"
   ]
  },
  {
   "cell_type": "code",
   "execution_count": 49,
   "id": "36ea5c6c",
   "metadata": {},
   "outputs": [],
   "source": [
    "from sklearn.tree import DecisionTreeClassifier"
   ]
  },
  {
   "cell_type": "code",
   "execution_count": 50,
   "id": "67a1fe94",
   "metadata": {},
   "outputs": [
    {
     "data": {
      "text/plain": [
       "DecisionTreeClassifier()"
      ]
     },
     "execution_count": 50,
     "metadata": {},
     "output_type": "execute_result"
    }
   ],
   "source": [
    "model = DecisionTreeClassifier()\n",
    "model.fit(X_train, y_train)\n"
   ]
  },
  {
   "cell_type": "code",
   "execution_count": 51,
   "id": "e9dafd33",
   "metadata": {},
   "outputs": [],
   "source": [
    "y_pred = model.predict(X_test)"
   ]
  },
  {
   "cell_type": "code",
   "execution_count": 52,
   "id": "590fa8c0",
   "metadata": {},
   "outputs": [],
   "source": [
    "a = accuracy_score(y_test, y_pred)"
   ]
  },
  {
   "cell_type": "code",
   "execution_count": 53,
   "id": "4ad5716d",
   "metadata": {},
   "outputs": [
    {
     "data": {
      "text/plain": [
       "1.0"
      ]
     },
     "execution_count": 53,
     "metadata": {},
     "output_type": "execute_result"
    }
   ],
   "source": [
    "a"
   ]
  },
  {
   "cell_type": "code",
   "execution_count": 54,
   "id": "75b79f05",
   "metadata": {},
   "outputs": [],
   "source": [
    "cm = confusion_matrix(y_pred, y_test)"
   ]
  },
  {
   "cell_type": "code",
   "execution_count": 55,
   "id": "aa261682",
   "metadata": {},
   "outputs": [
    {
     "data": {
      "text/plain": [
       "<AxesSubplot:>"
      ]
     },
     "execution_count": 55,
     "metadata": {},
     "output_type": "execute_result"
    },
    {
     "data": {
      "image/png": "[encoded data removed]",
      "text/plain": [
       "<Figure size 720x720 with 2 Axes>"
      ]
     },
     "metadata": {
      "needs_background": "light"
     },
     "output_type": "display_data"
    }
   ],
   "source": [
    "\n",
    "fig, ax = plt.subplots(figsize=(10, 10))\n",
    "sns.heatmap(cm, annot=True)"
   ]
  },
  {
   "cell_type": "code",
   "execution_count": 56,
   "id": "ec3fbedb",
   "metadata": {},
   "outputs": [],
   "source": [
    "rf = RandomForestClassifier()"
   ]
  },
  {
   "cell_type": "code",
   "execution_count": 57,
   "id": "3109c1ae",
   "metadata": {},
   "outputs": [],
   "source": [
    "rf.fit(X_train, y_train)\n",
    "pred = rf.predict(X_test)"
   ]
  },
  {
   "cell_type": "code",
   "execution_count": 58,
   "id": "952d1f8b",
   "metadata": {},
   "outputs": [
    {
     "data": {
      "text/plain": [
       "1.0"
      ]
     },
     "execution_count": 58,
     "metadata": {},
     "output_type": "execute_result"
    }
   ],
   "source": [
    "accuracy_score(pred, y_test)    "
   ]
  },
  {
   "cell_type": "code",
   "execution_count": 59,
   "id": "6dd47cf8",
   "metadata": {
    "scrolled": true
   },
   "outputs": [
    {
     "name": "stdout",
     "output_type": "stream",
     "text": [
      "N              0.648711\n",
      "P              1.052999\n",
      "K             -0.021298\n",
      "pH            -0.066146\n",
      "Rainfall       0.160046\n",
      "Temperature   -0.253100\n",
      "dtype: float64\n"
     ]
    }
   ],
   "source": [
    "print(new_df.skew(numeric_only=True))\n"
   ]
  },
  {
   "cell_type": "code",
   "execution_count": 60,
   "id": "59113d8e",
   "metadata": {},
   "outputs": [],
   "source": [
    "# Instantiate model\n",
    "Gb_model = GradientBoostingClassifier(random_state=42)\n",
    "\n",
    "# Fit model\n",
    "Gb_model.fit(X_train, y_train)\n",
    "\n",
    "# Make predictions\n",
    "pred3 = Gb_model.predict(X_test)\n"
   ]
  },
  {
   "cell_type": "code",
   "execution_count": 61,
   "id": "76f1625e",
   "metadata": {},
   "outputs": [
    {
     "data": {
      "text/plain": [
       "1.0"
      ]
     },
     "execution_count": 61,
     "metadata": {},
     "output_type": "execute_result"
    }
   ],
   "source": [
    "accuracy_score(pred3, y_test)"
   ]
  },
  {
   "cell_type": "code",
   "execution_count": 62,
   "id": "b99af4e6",
   "metadata": {},
   "outputs": [],
   "source": [
    "from sklearn.model_selection import cross_val_score\n",
    "score_lr=cross_val_score(rf, X_test, y_test,cv=10)"
   ]
  },
  {
   "cell_type": "code",
   "execution_count": 63,
   "id": "feba2549",
   "metadata": {},
   "outputs": [
    {
     "data": {
      "text/plain": [
       "array([1., 1., 1., 1., 1., 1., 1., 1., 1., 1.])"
      ]
     },
     "execution_count": 63,
     "metadata": {},
     "output_type": "execute_result"
    }
   ],
   "source": [
    "score_lr\n",
    "# sv = svm.SVC()\n",
    "# sv.fit(X_train, y_train)"
   ]
  },
  {
   "cell_type": "code",
   "execution_count": 64,
   "id": "24f89b70",
   "metadata": {},
   "outputs": [],
   "source": [
    "# pred_sv= sv.predict(X_test)"
   ]
  },
  {
   "cell_type": "code",
   "execution_count": 65,
   "id": "e5930c6a",
   "metadata": {},
   "outputs": [],
   "source": [
    "# accuracy_score(pred_sv, y_test)"
   ]
  },
  {
   "cell_type": "markdown",
   "id": "bdd1a59d",
   "metadata": {},
   "source": [
    "### Deployment"
   ]
  },
  {
   "cell_type": "code",
   "execution_count": 66,
   "id": "ffc92859",
   "metadata": {},
   "outputs": [],
   "source": [
    "import pickle\n"
   ]
  },
  {
   "cell_type": "code",
   "execution_count": 67,
   "id": "cd6ba75f",
   "metadata": {},
   "outputs": [],
   "source": [
    "pickle.dump(rf, open('model.pkl', 'wb'))"
   ]
  },
  {
   "cell_type": "code",
   "execution_count": null,
   "id": "621cc10d",
   "metadata": {},
   "outputs": [],
   "source": []
  }
 ],
 "metadata": {
  "kernelspec": {
   "display_name": "Python 3 (ipykernel)",
   "language": "python",
   "name": "python3"
  },
  "language_info": {
   "codemirror_mode": {
    "name": "ipython",
    "version": 3
   },
   "file_extension": ".py",
   "mimetype": "text/x-python",
   "name": "python",
   "nbconvert_exporter": "python",
   "pygments_lexer": "ipython3",
   "version": "3.9.12"
  }
 },
 "nbformat": 4,
 "nbformat_minor": 5
}
