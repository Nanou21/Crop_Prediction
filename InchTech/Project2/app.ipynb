{
 "cells": [
  {
   "cell_type": "code",
   "execution_count": 2,
   "id": "3c6d0f09",
   "metadata": {},
   "outputs": [],
   "source": [
    "import numpy as np\n",
    "import pickle"
   ]
  },
  {
   "cell_type": "code",
   "execution_count": 3,
   "id": "6e9818a4",
   "metadata": {},
   "outputs": [],
   "source": [
    "from flask import Flask, request, jsonify, render_template"
   ]
  },
  {
   "cell_type": "code",
   "execution_count": 4,
   "id": "354fffea",
   "metadata": {},
   "outputs": [],
   "source": [
    "#Create a flask app\n",
    "app = Flask(__name__)"
   ]
  },
  {
   "cell_type": "code",
   "execution_count": 5,
   "id": "010579e3",
   "metadata": {},
   "outputs": [],
   "source": [
    "#load model\n",
    "model = pickle.load(open('model.pkl', 'rb'))"
   ]
  },
  {
   "cell_type": "code",
   "execution_count": 6,
   "id": "fd6ec51b",
   "metadata": {},
   "outputs": [],
   "source": [
    "@app.route(\"/\")\n",
    "def Home():\n",
    "    return render_template('index.html')"
   ]
  },
  {
   "cell_type": "code",
   "execution_count": 7,
   "id": "79803520",
   "metadata": {},
   "outputs": [],
   "source": [
    "@app.route('/predict', methods = ['POST'])\n",
    "def predict():\n",
    "    float_features = [float(x) for x in request.form.values()]\n",
    "    features = [np.array(float_features)]\n",
    "    prediction = model.predict(features)\n",
    "    \n",
    "    return render_template('index.html', prediction_text = \"The crop is a {}\".format(prediction))"
   ]
  },
  {
   "cell_type": "code",
   "execution_count": null,
   "id": "8673601e",
   "metadata": {},
   "outputs": [],
   "source": [
    "if __name__ == '__main__':\n",
    "    from waitress import serve\n",
    "    serve(app, host=\"0.0.0.0\", port=8080)\n",
    "#     app.run(debug = True)"
   ]
  },
  {
   "cell_type": "code",
   "execution_count": null,
   "id": "e814de6c",
   "metadata": {},
   "outputs": [],
   "source": []
  },
  {
   "cell_type": "code",
   "execution_count": null,
   "id": "1de463bf",
   "metadata": {},
   "outputs": [],
   "source": []
  }
 ],
 "metadata": {
  "kernelspec": {
   "display_name": "Python 3 (ipykernel)",
   "language": "python",
   "name": "python3"
  },
  "language_info": {
   "codemirror_mode": {
    "name": "ipython",
    "version": 3
   },
   "file_extension": ".py",
   "mimetype": "text/x-python",
   "name": "python",
   "nbconvert_exporter": "python",
   "pygments_lexer": "ipython3",
   "version": "3.9.12"
  }
 },
 "nbformat": 4,
 "nbformat_minor": 5
}
